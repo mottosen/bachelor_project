{
 "cells": [
  {
   "cell_type": "code",
   "execution_count": null,
   "metadata": {},
   "outputs": [],
   "source": [
    "import pandas as pd\n",
    "from pathlib import Path\n",
    "#from rhscripts import dcm\n",
    "from rhscripts.plotting import _PETRainbowCMAP\n",
    "from typing import Optional, Tuple, Callable, Dict, Union\n",
    "import pydicom\n",
    "from pydicom import dcmread\n",
    "import torchio as tio\n",
    "import numpy as np\n",
    "from matplotlib import pyplot as plt\n",
    "import os\n",
    "from nibabel.affines import apply_affine\n",
    "import numpy.linalg as npl\n",
    "import copy\n",
    "from matplotlib.backends.backend_pdf import PdfPages"
   ]
  },
  {
   "cell_type": "code",
   "execution_count": null,
   "metadata": {},
   "outputs": [],
   "source": [
    "path_data = Path('../data/')\n",
    "anonymized_data = path_data / 'nii/anonymized'\n",
    "\n",
    "np.set_printoptions(formatter={'float_kind':\"{:.2f}\".format})"
   ]
  },
  {
   "cell_type": "code",
   "execution_count": null,
   "metadata": {},
   "outputs": [],
   "source": [
    "def rtss_reg(row, pet_name, ct_name, resample=True, do_plot=False, extra_resampling=None, pdf=None):\n",
    "    container = tio.ScalarImage(anonymized_data / '{}/{}.nii.gz'.format(row.ID, pet_name if row.linked_to == 'PT' else ct_name))\n",
    "    \n",
    "    if extra_resampling is not None:\n",
    "        rsl = tio.Resample(extra_resampling)\n",
    "        container = rsl(container)\n",
    "\n",
    "    world = [row.world_x, row.world_y, row.world_z]\n",
    "    voxel = apply_affine(npl.inv(container.affine), world)\n",
    "    voxel_i = list(map(round, voxel))\n",
    "\n",
    "    if do_plot & (pdf is not None):\n",
    "        try:\n",
    "            other = tio.ScalarImage(anonymized_data / '{}/{}.nii.gz'.format(row.ID, pet_name if not row.linked_to == 'PT' else ct_name))\n",
    "            if extra_resampling is not None:\n",
    "                other = rsl(other)\n",
    "\n",
    "            # PLOT\n",
    "            fig, axes = plt.subplots(1, 2, dpi=50, sharex=True, sharey=True, figsize=(10, 5))\n",
    "\n",
    "            # Load other image as well\n",
    "            if resample:\n",
    "                rsl = tio.Resample(container)\n",
    "                other = rsl(other)\n",
    "\n",
    "            if row.linked_to == \"CT\":\n",
    "                cmap_container = 'gray'\n",
    "                cmap_other = _PETRainbowCMAP\n",
    "            else:\n",
    "                cmap_other = 'gray'\n",
    "                cmap_container = _PETRainbowCMAP\n",
    "\n",
    "            titles = [\n",
    "                'PT: {}, Location: {}'.format(row.ID, voxel_i), \n",
    "                'Classification: {}. Diameter in cm: {}.'.format(row.classificaton, row.diameter_in_cm)\n",
    "            ] \n",
    "            for ax_ind, (img, cmap, title) in enumerate(zip([container, other], [cmap_container, cmap_other], titles)):\n",
    "                ax = axes[ax_ind]\n",
    "                ax.imshow(np.fliplr(np.rot90(img.numpy()[0,:,:,voxel_i[2]], 3)), cmap=cmap)\n",
    "                ax.plot(voxel_i[0], voxel_i[1], 'bo', alpha=.3)\n",
    "                ax.set_title(title)\n",
    "                ax.axis('off')\n",
    "                \n",
    "            plt.tight_layout()\n",
    "            pdf.savefig(fig)\n",
    "            print(f\"\\n\\nworked for pt {row.ID}\")\n",
    "        except:\n",
    "            print(f\"\\n\\nerror for pt {row.ID}\")\n",
    "\n",
    "    return voxel"
   ]
  },
  {
   "cell_type": "code",
   "execution_count": null,
   "metadata": {},
   "outputs": [],
   "source": [
    "df = pd.read_pickle(path_data / 'reference_markings.pkl')\n",
    "df_final = pd.DataFrame(columns=['ID','world_x', 'world_y', 'world_z','voxel_x', 'voxel_y', 'voxel_z','classificaton','diameter_in_cm', 'linked_to'])\n",
    "\n",
    "pdf = PdfPages(f\"{path_data}/rtss_registrations.pdf\")\n",
    "\n",
    "for pt in df.iloc:\n",
    "    if not (anonymized_data / f\"{pt.ID}/2mmCT_BET.nii.gz\").exists():\n",
    "        continue\n",
    "\n",
    "    if pt.linked_to == 'PT':\n",
    "        csv = df[['world_x', 'world_y', 'world_z']].rename(columns={'world_x':'x', 'world_y':'y', 'world_z':'z'})\n",
    "        csv.loc[:,'t'] = 0\n",
    "        \n",
    "        csv.to_csv(f'temp.csv', index=False)\n",
    "        os.system(f'antsApplyTransformsToPoints -d 3 -i temp.csv -o temp_reg.csv -t {anonymized_data}/{pt.ID}/Composite.h5')\n",
    "        csv = pd.read_csv('temp_reg.csv')\n",
    "\n",
    "        df_reg = pd.DataFrame({'ID': pt.ID, 'world_x': csv.x, 'world_y': csv.y, 'world_z': csv.z, 'classificaton': pt.classificaton, 'diameter_in_cm': pt.diameter_in_cm, 'linked_to': pt.linked_to})\n",
    "\n",
    "        voxel = rtss_reg(pt, pet_name='2mmPET_BET_rsl2mmCT_BET', ct_name='2mmCT_BET', resample=False, do_plot=True, extra_resampling=0.8, pdf=pdf)\n",
    "\n",
    "    else:\n",
    "        csv = df[['world_x', 'world_y', 'world_z']].rename(columns={'world_x':'x', 'world_y':'y', 'world_z':'z'})\n",
    "        voxel = rtss_reg(pt, pet_name='2mmPET_BET_rsl2mmCT_BET', ct_name='2mmCT_BET', resample=False, do_plot=True, extra_resampling=0.8, pdf=pdf)\n",
    "\n",
    "    df_final = df_final.append(pd.DataFrame({'ID': pt.ID, 'world_x': csv.x, 'world_y': csv.y, 'world_z': csv.z, 'voxel_x': voxel[0], 'voxel_y': voxel[1], 'voxel_z': voxel[2], 'classificaton': pt.classificaton, 'diameter_in_cm': pt.diameter_in_cm, 'linked_to': pt.linked_to}, index=[0]), ignore_index=True)\n",
    "\n",
    "pdf.close()\n",
    "df_final.to_pickle(path_data / 'registered_reference_markings_0p8mm.pkl')"
   ]
  },
  {
   "cell_type": "code",
   "execution_count": null,
   "metadata": {},
   "outputs": [],
   "source": [
    "df_final"
   ]
  }
 ],
 "metadata": {
  "interpreter": {
   "hash": "13ca3f0e96221592f69f66355e31d3ff0d76f46d3fbf1f734221e9cefe6360d7"
  },
  "kernelspec": {
   "display_name": "Python 3.8.10 ('.venv_bachelor')",
   "language": "python",
   "name": "python3"
  },
  "language_info": {
   "codemirror_mode": {
    "name": "ipython",
    "version": 3
   },
   "file_extension": ".py",
   "mimetype": "text/x-python",
   "name": "python",
   "nbconvert_exporter": "python",
   "pygments_lexer": "ipython3",
   "version": "3.9.12"
  },
  "orig_nbformat": 4
 },
 "nbformat": 4,
 "nbformat_minor": 2
}
