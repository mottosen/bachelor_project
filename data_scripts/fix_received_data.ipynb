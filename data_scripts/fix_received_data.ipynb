{
 "cells": [
  {
   "cell_type": "code",
   "execution_count": null,
   "metadata": {},
   "outputs": [],
   "source": [
    "import pandas as pd\n",
    "from pathlib import Path\n",
    "from rhscripts import dcm\n",
    "from pydicom import dcmread\n",
    "import shutil"
   ]
  },
  {
   "cell_type": "code",
   "execution_count": null,
   "metadata": {},
   "outputs": [],
   "source": [
    "# Data paths\n",
    "path_RTSS = Path('../data/RTSS')\n",
    "path_data = Path('../data/')"
   ]
  },
  {
   "cell_type": "code",
   "execution_count": null,
   "metadata": {},
   "outputs": [],
   "source": [
    "# Keep these folders, delete all others of same modality\n",
    "resolve = {}\n",
    "resolve['Cmet0216'] = '1.2.124.113532.1641892232101216572131160211235205112142116'\n",
    "resolve['Cmet0392'] = '1.3.12.2.1107.5.1.4.11086.30000019051507323768900025349'\n",
    "resolve['Cmet1354'] = '1.2.840.113619.2.290.3.397169200.368.1550473194.624.13'"
   ]
  },
  {
   "cell_type": "code",
   "execution_count": null,
   "metadata": {},
   "outputs": [],
   "source": [
    "delete_folders = []\n",
    "do_delete=True\n",
    "\n",
    "for pt in path_data.glob('controls/*'):\n",
    "    if len(list(pt.iterdir())) == 2: \n",
    "        continue\n",
    "\n",
    "    delete_folders.append(pt)\n",
    "\n",
    "for pt in path_data.glob('anonymized/*'):\n",
    "    if len(list(pt.iterdir())) == 2: \n",
    "        continue\n",
    "    \n",
    "    rtss_match = len(RTSS_file := list(path_RTSS.glob(f'{pt.name}/*/*')))\n",
    "\n",
    "    if rtss_match == 0:\n",
    "        delete_folders.append(pt)\n",
    "    if rtss_match == 1:\n",
    "        print(pt.name, len(list(pt.iterdir())))\n",
    "        reference_suid = dcm.get_reference_seriesUID_from_RTSS(RTSS_file[0])\n",
    "\n",
    "        # CHECK CANDIDATE DICOMS\n",
    "        candidates = {'PT': {}, 'CT': {}}\n",
    "        container = None\n",
    "        container_modality = None\n",
    "        for dcm_dir in pt.iterdir():\n",
    "            ds = dcmread(next(dcm_dir.iterdir()))\n",
    "            candidates[ds.Modality][dcm_dir.absolute()] = ds.SeriesDescription\n",
    "            if ds.SeriesInstanceUID == reference_suid:\n",
    "                container = dcm_dir.absolute()\n",
    "                container_modality = ds.Modality\n",
    "        for modality in ['PT','CT']:\n",
    "            del_count=0\n",
    "            if len(candidates[modality])==1:\n",
    "                pass # All is well\n",
    "            elif container_modality == modality:\n",
    "                # Delete all that is not container\n",
    "                for k in candidates[modality].keys():\n",
    "                    if not k == container:\n",
    "                        delete_folders.append(k)\n",
    "                        del_count+=1\n",
    "            elif pt.name in resolve:\n",
    "                for k in candidates[modality].keys():\n",
    "                    if not Path(k).name == resolve[pt.name]:\n",
    "                        delete_folders.append(k)\n",
    "                        del_count+=1\n",
    "            else:\n",
    "                print(candidates[modality])\n",
    "                do_delete=False\n",
    "            \n",
    "            if not del_count == len(candidates[modality])-1:\n",
    "                print(\"\\t\",modality,\"PROBLEMS...\",del_count)\n",
    "                do_delete=False\n",
    "    \n",
    "for d in delete_folders:\n",
    "    print(\"Deleting\",d)\n",
    "    if do_delete:\n",
    "        shutil.rmtree(d)"
   ]
  },
  {
   "cell_type": "code",
   "execution_count": null,
   "metadata": {},
   "outputs": [],
   "source": [
    "len(delete_folders)"
   ]
  }
 ],
 "metadata": {
  "interpreter": {
   "hash": "a332d10eb8af24b0fb36d2d48199c82c22df07ed1d2c295e0cc9da80b39cf80d"
  },
  "kernelspec": {
   "display_name": "Python 3.8.10 ('pytorch')",
   "language": "python",
   "name": "python3"
  },
  "language_info": {
   "codemirror_mode": {
    "name": "ipython",
    "version": 3
   },
   "file_extension": ".py",
   "mimetype": "text/x-python",
   "name": "python",
   "nbconvert_exporter": "python",
   "pygments_lexer": "ipython3",
   "version": "3.8.10"
  },
  "orig_nbformat": 4
 },
 "nbformat": 4,
 "nbformat_minor": 2
}
