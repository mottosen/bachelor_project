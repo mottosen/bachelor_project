{
 "cells": [
  {
   "cell_type": "code",
   "execution_count": null,
   "metadata": {},
   "outputs": [],
   "source": [
    "import pandas as pd\n",
    "from pydicom import dcmread\n",
    "from pathlib import Path\n",
    "from itertools import chain"
   ]
  },
  {
   "cell_type": "code",
   "execution_count": null,
   "metadata": {},
   "outputs": [],
   "source": [
    "import warnings\n",
    "warnings.filterwarnings('ignore')"
   ]
  },
  {
   "cell_type": "code",
   "execution_count": null,
   "metadata": {},
   "outputs": [],
   "source": [
    "path_data = Path('../data') \n",
    "save_data = False\n",
    "pd.options.display.float_format = '{:,.2f}'.format"
   ]
  },
  {
   "cell_type": "code",
   "execution_count": null,
   "metadata": {},
   "outputs": [],
   "source": [
    "# Block: build panda dataframe with relevant properties\n",
    "\n",
    "if save_data:\n",
    "    df = pd.DataFrame(columns=['modality', 'pixel_spacing', 'slice_thickness', 'rows', 'cols', 'institution_name', 'manufacturer_model_name'])\n",
    "\n",
    "    for dcm in chain(path_data.glob('anonymized/*/*'), path_data.glob('controls/*/*')):\n",
    "        print(dcm)\n",
    "        ds = dcmread(next(dcm.iterdir()))\n",
    "\n",
    "        try:\n",
    "            df = df.append(\n",
    "                pd.DataFrame(\n",
    "                    {\n",
    "                        'modality':ds.Modality,\n",
    "                        'pixel_spacing':ds.PixelSpacing[0], # assuming equal values for both indexes in array\n",
    "                        'slice_thickness':ds.SliceThickness,\n",
    "                        'rows':ds.Rows,\n",
    "                        'cols':ds.Columns,\n",
    "                        'institution_name':ds.InstitutionName,\n",
    "                        'manufacturer_model_name':ds.ManufacturerModelName\n",
    "                    },\n",
    "                    index=[ds.AccessionNumber]),\n",
    "                ignore_index=False)\n",
    "        except:\n",
    "            print(str(dcm.parent) + \" failed\")\n",
    "            continue"
   ]
  },
  {
   "cell_type": "code",
   "execution_count": null,
   "metadata": {},
   "outputs": [],
   "source": [
    "if save_data:\n",
    "    df.to_pickle(path_data / 'data_analyzed.pkl')\n",
    "else:\n",
    "    df = pd.read_pickle(path_data / 'data_analyzed.pkl')\n",
    "\n",
    "print(f\"{len(df.index.unique())} patients were loaded\\n\") # should be 1705\n",
    "\n",
    "print(\"CT slice thickness:\")\n",
    "print(df[df['modality'] == 'CT'].slice_thickness.value_counts())\n",
    "\n",
    "print(\"\\nPET slice thickness:\")\n",
    "print(df[df['modality'] == 'PT'].slice_thickness.value_counts())\n",
    "\n",
    "print(\"\\nCT pixel_spacing\")\n",
    "print(df[df['modality'] == 'CT'].pixel_spacing.value_counts())\n",
    "\n",
    "print(\"\\nPET pixel_spacing\")\n",
    "print(df[df['modality'] == 'PT'].pixel_spacing.value_counts())"
   ]
  }
 ],
 "metadata": {
  "interpreter": {
   "hash": "13ca3f0e96221592f69f66355e31d3ff0d76f46d3fbf1f734221e9cefe6360d7"
  },
  "kernelspec": {
   "display_name": "Python 3.8.10 ('.venv_bachelor')",
   "language": "python",
   "name": "python3"
  },
  "language_info": {
   "codemirror_mode": {
    "name": "ipython",
    "version": 3
   },
   "file_extension": ".py",
   "mimetype": "text/x-python",
   "name": "python",
   "nbconvert_exporter": "python",
   "pygments_lexer": "ipython3",
   "version": "3.9.12"
  },
  "orig_nbformat": 4
 },
 "nbformat": 4,
 "nbformat_minor": 2
}
